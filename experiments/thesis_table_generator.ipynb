{
 "cells": [
  {
   "cell_type": "markdown",
   "metadata": {},
   "source": [
    "# Generation of Tables / Figures for Research Paper"
   ]
  },
  {
   "cell_type": "markdown",
   "metadata": {},
   "source": [
    "## 1. Getting Runs\n",
    "Select sweep, order and filter runs to get top 10 runs based on assumed 15-run-sweeps."
   ]
  },
  {
   "cell_type": "code",
   "execution_count": 92,
   "metadata": {},
   "outputs": [],
   "source": [
    "import wandb\n",
    "\n",
    "# specify params for table generation \n",
    "sweep_path = 'niware/dp_benchmark/0cud9g6o'\n",
    "baseline_run_path = 'niware/baseline/3kl428qm'\n",
    "model_name = \"W10D10\\\\\\ Dense Model\"\n",
    "num_params = \"100K\" # this can't be extracted\n",
    "\n",
    "api = wandb.Api()\n",
    "\n",
    "dp_sweep = api.sweep(sweep_path)\n",
    "baseline_run = api.run(baseline_run_path)\n",
    "summary_list = [] \n",
    "config_list = [] \n",
    "name_list = [] \n",
    "for run in dp_sweep.runs: \n",
    "    # run.summary are the output key/values like accuracy.\n",
    "    # We call ._json_dict to omit large files \n",
    "    summary_list.append(run.summary._json_dict) \n",
    "\n",
    "    # run.config is the input metrics.\n",
    "    # We remove special values that start with _.\n",
    "    config = {k:v for k,v in run.config.items() if not k.startswith('_')}\n",
    "    config['path'] = run.path\n",
    "    config_list.append(config) \n",
    "\n",
    "    # run.name is the name of the run.\n",
    "    name_list.append(run.name)       \n",
    "\n",
    "import pandas as pd \n",
    "summary_df = pd.DataFrame.from_records(summary_list) \n",
    "config_df = pd.DataFrame.from_records(config_list) \n",
    "name_df = pd.DataFrame({'name': name_list}) \n",
    "all_df = pd.concat([name_df, config_df,summary_df], axis=1)\n",
    "#print(all_df.columns.tolist())\n",
    "\n",
    "# important cols for this experiment\n",
    "important_cols = [\n",
    "    \"name\",\n",
    "    \"_timestamp\",\n",
    "    \"val_acc\",\n",
    "    \"val_loss\",\n",
    "    \"epoch\",\n",
    "    \"L2_clip\",\n",
    "    \"global grad norm\",\n",
    "    \"spent_epsilon\",\n",
    "    \"train_loss\",\n",
    "    \"trainer/global_step\",\n",
    "    \"path\",\n",
    "]\n",
    "# get important columns only\n",
    "final_df = all_df.loc[:, important_cols]\n",
    "# only consider 15 first runs in sweep (in case there are more in sweep)\n",
    "final_df = final_df.sort_values('_timestamp', ascending=True)[:15]\n",
    "# get top 10\n",
    "final_df = final_df.sort_values('val_acc', ascending=False)[:10]\n",
    "\n",
    "#final_df.to_csv(\"project.csv\")"
   ]
  },
  {
   "cell_type": "markdown",
   "metadata": {},
   "source": [
    "## Table 1 - Performance Info\n",
    "Extract and process all information and directly generate latex table row.<br>\n",
    "```Model | ValAcc No-DP | Mean ValAcc DP (STD DEV) | Best ValAcc [Run-Nr] Epochs```"
   ]
  },
  {
   "cell_type": "code",
   "execution_count": 93,
   "metadata": {},
   "outputs": [],
   "source": [
    "# Init. final information \n",
    "table_1_assembly = {\n",
    "    \"model\": model_name,\n",
    "    \"valacc_nodp\": 0.000,\n",
    "    \"valacc_dp_avg\": 0.000,\n",
    "    \"valacc_dp_std\": 0.000,\n",
    "    \"valacc_dp_best\": 0.000,\n",
    "    \"best_num\": 0.000,\n",
    "    \"best_epochs\": 0.000,\n",
    "}"
   ]
  },
  {
   "cell_type": "code",
   "execution_count": 94,
   "metadata": {},
   "outputs": [
    {
     "name": "stdout",
     "output_type": "stream",
     "text": [
      "{'model': 'W10D10\\\\\\\\ Dense Model', 'valacc_nodp': 0.6530057191848755, 'valacc_dp_avg': 0.4746785879135132, 'valacc_dp_std': 0.007263291879589248, 'valacc_dp_best': 0.48101648688316345, 'best_num': 6.0, 'best_epochs': 25}\n"
     ]
    }
   ],
   "source": [
    "import re\n",
    "\n",
    "# DP-Sweep runs\n",
    "table_1_assembly[\"valacc_dp_best\"] = final_df.iloc[0][\"val_acc\"] # we ordered the runs\n",
    "table_1_assembly[\"valacc_dp_avg\"] = final_df[\"val_acc\"].mean()\n",
    "table_1_assembly[\"valacc_dp_std\"] = final_df[\"val_acc\"].std()\n",
    "table_1_assembly[\"best_epochs\"] = final_df.iloc[0][\"epoch\"]\n",
    "# wandb sweeps are always called 'adjective-sweep-Nr.' - we extract the number\n",
    "table_1_assembly[\"best_num\"] = float(\n",
    "    re.findall(\n",
    "        \"\\d+\", \n",
    "        final_df.iloc[0][\"name\"]\n",
    "    )[0]\n",
    ") # regex to extract numbers\n",
    "\n",
    "# Baseline\n",
    "table_1_assembly[\"valacc_nodp\"] = baseline_run.summary[\"val_acc\"]\n",
    "\n",
    "print(table_1_assembly)"
   ]
  },
  {
   "cell_type": "markdown",
   "metadata": {},
   "source": [
    "## Table 2 - Extra Info\n",
    "Extract and process all information and directly generate latex table row.<br>\n",
    "```Model | GGN no-DP | GGN DP (STD DEV) | Best Run GGN | Best Run L2 | #Params```"
   ]
  },
  {
   "cell_type": "code",
   "execution_count": 95,
   "metadata": {},
   "outputs": [],
   "source": [
    "# Init. final information \n",
    "table_2_assembly = {\n",
    "    \"model\": model_name,\n",
    "    \"ggn_nodp\": 0.000,\n",
    "    \"ggn_dp_avg\": 0.000,\n",
    "    \"ggn_dp_std\": 0.000,\n",
    "    \"ggn_dp_best\": 0.000,\n",
    "    \"L2_clip\": 0.000,\n",
    "    \"params\": num_params,\n",
    "}"
   ]
  },
  {
   "cell_type": "code",
   "execution_count": 96,
   "metadata": {},
   "outputs": [],
   "source": [
    "# not used at the moment\n",
    "def exp_moving_average(ts, alpha=0.01): \n",
    "    \"\"\"\n",
    "        Takes in an array of floats and a factor between [0,1] \n",
    "        and returns the exponentially smoothed timeseries as array\n",
    "    \"\"\"\n",
    "    smoothed_ts = []\n",
    "    smoothed_ts.append(ts[0])\n",
    "    for t in range(1, len(ts)): \n",
    "        smoothed_ts.append(\n",
    "            (1-alpha)*smoothed_ts[t-1] + alpha*ts[t]\n",
    "        )\n",
    "    return smoothed_ts"
   ]
  },
  {
   "cell_type": "code",
   "execution_count": 101,
   "metadata": {},
   "outputs": [
    {
     "name": "stderr",
     "output_type": "stream",
     "text": [
      "100%|██████████| 10/10 [00:03<00:00,  2.57it/s]"
     ]
    },
    {
     "name": "stdout",
     "output_type": "stream",
     "text": [
      "ggn_smoothed_mean: 6.648743541673899\n",
      "ggn_raw_mean: 0.13359409583772783\n"
     ]
    },
    {
     "name": "stderr",
     "output_type": "stream",
     "text": [
      "\n"
     ]
    }
   ],
   "source": [
    "from tqdm import tqdm\n",
    "\n",
    "sweep_size = 10\n",
    "alpha = 0.01\n",
    "ggn_final_values = []\n",
    "\n",
    "for i in tqdm(range(sweep_size)):\n",
    "    # get run from ordered and filtered runs\n",
    "    dp_run_name = \"/\".join(final_df.iloc[i]['path'])\n",
    "    dp_run = api.run(dp_run_name)\n",
    "\n",
    "    # get complete GGN history\n",
    "    dp_run_history = dp_run.scan_history(keys=['global grad norm'])\n",
    "    ggn_ts = pd.Series([row[\"global grad norm\"] for row in dp_run_history])\n",
    "\n",
    "    # apply exponential moving mean smoothing\n",
    "    ggn_ts_smoothed_pandas = ggn_ts.ewm(alpha=alpha).mean()\n",
    "    # ggn_ts_smoothed_custom = pd.Series(exp_moving_average(ggn_ts.tolist(), alpha))\n",
    "\n",
    "    # save last timestep (can be different depending on number of epochs of run)\n",
    "    ggn_final_values.append(ggn_ts_smoothed_pandas.iloc[-1])\n",
    "\n",
    "ggn_final_values = pd.Series(ggn_final_values)\n",
    "ggn_smoothed_mean = ggn_final_values.mean()\n",
    "ggn_raw_mean = final_df['global grad norm'].mean()\n",
    "\n",
    "print(f\"ggn_smoothed_mean: {ggn_smoothed_mean}\")\n",
    "print(f\"ggn_raw_mean: {ggn_raw_mean}\")\n",
    "\n",
    "# save most important params\n",
    "table_2_assembly[\"ggn_dp_avg\"] = ggn_final_values.mean()\n",
    "table_2_assembly[\"ggn_dp_std\"] = ggn_final_values.std()\n",
    "table_2_assembly[\"ggn_dp_best\"] = ggn_final_values.iloc[0] # we ordered the runs\n",
    "table_2_assembly[\"L2_clip\"] = final_df.iloc[0][\"L2_clip\"] # we ordered the runs"
   ]
  },
  {
   "cell_type": "code",
   "execution_count": 98,
   "metadata": {},
   "outputs": [
    {
     "name": "stdout",
     "output_type": "stream",
     "text": [
      "ggn_nodp: 4.07407767244986\n"
     ]
    }
   ],
   "source": [
    "# get no-DP baseline GGN\n",
    "# get complete GGN history\n",
    "baseline_run_history = baseline_run.scan_history(keys=['global grad norm'])\n",
    "ggn_nodp_ts = pd.Series([row[\"global grad norm\"] for row in baseline_run_history])\n",
    "\n",
    "# apply exponential moving average smoothing\n",
    "table_2_assembly[\"ggn_nodp\"] = ggn_nodp_ts.ewm(alpha=alpha).mean().iloc[-1]\n",
    "\n",
    "print(f\"ggn_nodp: {table_2_assembly['ggn_nodp']}\")"
   ]
  },
  {
   "cell_type": "markdown",
   "metadata": {},
   "source": [
    "### Generation of Latex Table Rows"
   ]
  },
  {
   "cell_type": "code",
   "execution_count": 99,
   "metadata": {},
   "outputs": [
    {
     "name": "stdout",
     "output_type": "stream",
     "text": [
      "*** TABLE 1 ***\n",
      "\n",
      "    \\thead{W10D10\\\\ Dense Model} & 0.653 & \\thead{0.475\\\\ (0.007)} & \\thead{0.481 [6]\\\\ 25} \\\\\n",
      "    \n",
      "*** TABLE 2 ***\n",
      "\n",
      "    \\thead{W10D10\\\\ Dense Model} & 4.074 & \\thead{6.649\\\\ (0.112)} & 6.656 & 9.893 & 100K \\\\\n",
      "    \n"
     ]
    }
   ],
   "source": [
    "# Assemble final table rows\n",
    "\n",
    "# Output: Model | ValAcc No-DP | Mean ValAcc DP (STD DEV) | Best ValAcc [Run-Nr] Epochs\n",
    "print(\"*** TABLE 1 ***\")\n",
    "print(\n",
    "    '''\n",
    "    \\\\thead{%s} & %.3f & \\\\thead{%.3f\\\\\\ (%.3f)} & \\\\thead{%.3f [%d]\\\\\\ %d} \\\\\\\\\n",
    "    '''%(\n",
    "        table_1_assembly[\"model\"],\n",
    "        table_1_assembly[\"valacc_nodp\"], \n",
    "        table_1_assembly[\"valacc_dp_avg\"], \n",
    "        table_1_assembly[\"valacc_dp_std\"], \n",
    "        table_1_assembly[\"valacc_dp_best\"], \n",
    "        int(table_1_assembly[\"best_num\"]), \n",
    "        int(table_1_assembly[\"best_epochs\"]),\n",
    "    )\n",
    ")\n",
    "\n",
    "# Output: Model | GGN no-DP | GGN DP (STD) | Best Run GGN | Best Run L2 | #Params\n",
    "print(\"*** TABLE 2 ***\")\n",
    "print(\n",
    "    '''\n",
    "    \\\\thead{%s} & %.3f & \\\\thead{%.3f\\\\\\ (%.3f)} & %.3f & %.3f & %s \\\\\\\\\n",
    "    '''%(\n",
    "        table_2_assembly[\"model\"],\n",
    "        table_2_assembly[\"ggn_nodp\"], \n",
    "        table_2_assembly[\"ggn_dp_avg\"], \n",
    "        table_2_assembly[\"ggn_dp_std\"], \n",
    "        table_2_assembly[\"ggn_dp_best\"], \n",
    "        table_2_assembly[\"L2_clip\"], \n",
    "        table_2_assembly[\"params\"]\n",
    "    )\n",
    ")"
   ]
  },
  {
   "cell_type": "markdown",
   "metadata": {},
   "source": [
    "# Experiments"
   ]
  },
  {
   "cell_type": "code",
   "execution_count": 141,
   "metadata": {},
   "outputs": [],
   "source": [
    "# specify params for table generation \n",
    "sweep_path = 'niware/dp_benchmark/zaoiuche'\n",
    "baseline_run_path = 'niware/baseline/z9w1nsaf'\n",
    "\n",
    "import wandb\n",
    "api = wandb.Api()\n",
    "\n",
    "dp_sweep = api.sweep(sweep_path)\n",
    "baseline_run = api.run(baseline_run_path)\n",
    "summary_list = [] \n",
    "config_list = [] \n",
    "name_list = [] \n",
    "for run in dp_sweep.runs: \n",
    "    # run.summary are the output key/values like accuracy.\n",
    "    # We call ._json_dict to omit large files \n",
    "    summary_list.append(run.summary._json_dict) \n",
    "\n",
    "    # run.config is the input metrics.\n",
    "    # We remove special values that start with _.\n",
    "    config = {k:v for k,v in run.config.items() if not k.startswith('_')}\n",
    "    config['path'] = run.path\n",
    "    config_list.append(config) \n",
    "\n",
    "    # run.name is the name of the run.\n",
    "    name_list.append(run.name)       \n",
    "\n",
    "import pandas as pd \n",
    "summary_df = pd.DataFrame.from_records(summary_list) \n",
    "config_df = pd.DataFrame.from_records(config_list) \n",
    "name_df = pd.DataFrame({'name': name_list}) \n",
    "all_df = pd.concat([name_df, config_df,summary_df], axis=1)\n",
    "#print(all_df.columns.tolist())\n",
    "\n",
    "# important cols for this experiment\n",
    "important_cols = [\n",
    "    \"name\",\n",
    "    \"_timestamp\",\n",
    "    \"val_acc\",\n",
    "    \"val_loss\",\n",
    "    \"epoch\",\n",
    "    \"L2_clip\",\n",
    "    \"global grad norm\",\n",
    "    \"spent_epsilon\",\n",
    "    \"train_loss\",\n",
    "    \"trainer/global_step\",\n",
    "    \"path\",\n",
    "]\n",
    "# get important columns only\n",
    "final_df = all_df.loc[:, important_cols]\n",
    "# only consider 15 first runs in sweep (in case there are more in sweep)\n",
    "final_df = final_df.sort_values('_timestamp', ascending=True)[:15]\n",
    "# get top 10\n",
    "final_df = final_df.sort_values('val_acc', ascending=False)[:10]\n",
    "\n",
    "#final_df.to_csv(\"project.csv\")"
   ]
  },
  {
   "cell_type": "code",
   "execution_count": 156,
   "metadata": {},
   "outputs": [
    {
     "name": "stdout",
     "output_type": "stream",
     "text": [
      "niware/dp_benchmark/po1lacc1\n"
     ]
    }
   ],
   "source": [
    "run_nr = 9 # 0-9\n",
    "dp_run_name = \"/\".join(final_df.iloc[run_nr]['path'])\n",
    "print(dp_run_name)\n",
    "dp_run = api.run(dp_run_name)"
   ]
  },
  {
   "cell_type": "code",
   "execution_count": 157,
   "metadata": {},
   "outputs": [],
   "source": [
    "# get complete GGN history\n",
    "dp_run_history = dp_run.scan_history(keys=['global grad norm'])\n",
    "ggn_ts = pd.Series([row[\"global grad norm\"] for row in dp_run_history])\n",
    "\n",
    "# apply exponential moving average smoothing\n",
    "alpha = 0.01\n",
    "ggn_ts_smoothed_pandas = ggn_ts.ewm(alpha=alpha).mean()\n",
    "ggn_ts_smoothed_custom = pd.Series(exp_moving_average(ggn_ts.tolist(), alpha))"
   ]
  },
  {
   "cell_type": "code",
   "execution_count": 158,
   "metadata": {},
   "outputs": [
    {
     "data": {
      "text/plain": [
       "<matplotlib.legend.Legend at 0x7fbe4cf20160>"
      ]
     },
     "execution_count": 158,
     "metadata": {},
     "output_type": "execute_result"
    },
    {
     "data": {
      "image/png": "[encoded data removed]",
      "text/plain": [
       "<Figure size 432x288 with 1 Axes>"
      ]
     },
     "metadata": {
      "needs_background": "light"
     },
     "output_type": "display_data"
    }
   ],
   "source": [
    "import matplotlib.pyplot as plt\n",
    "%matplotlib inline\n",
    "\n",
    "fig, ax = plt.subplots()\n",
    "ggn_ts.plot()\n",
    "ggn_ts_smoothed_pandas.plot()\n",
    "ggn_ts_smoothed_custom.plot()\n",
    "ax.legend([\"Original\", \"Pandas\", \"Custom\"])"
   ]
  },
  {
   "cell_type": "code",
   "execution_count": 159,
   "metadata": {},
   "outputs": [
    {
     "data": {
      "text/plain": [
       "8.291449196700098"
      ]
     },
     "execution_count": 159,
     "metadata": {},
     "output_type": "execute_result"
    }
   ],
   "source": [
    "ggn_ts_smoothed_pandas.iloc[-1]"
   ]
  },
  {
   "cell_type": "code",
   "execution_count": null,
   "metadata": {},
   "outputs": [],
   "source": [
    "# Assemble final table\n",
    "run_assembly = {\n",
    "    \"ggn_nodp\": 3.893,\n",
    "    \"ggn_dp_avg\": 8.198,\n",
    "    \"ggn_dp_std\": 1.666,\n",
    "    \"ggn_dp_best\": 9.884,\n",
    "    \"l2\": 9.884,\n",
    "    \"params\": 0.000,\n",
    "}\n",
    "\n",
    "print(\n",
    "    '''\n",
    "    \\\\begin{tabular}{||c c c c c c||} \n",
    "    \\hline\n",
    "    \\\\thead{Model} & \\\\thead{GGN no-DP} & \\\\thead{GGN DP\\\\\\ (Std Dev)} & \\\\thead{Best Run\\\\\\ GGN} & \\\\thead{Best Run\\\\\\ L2 Clip} & \\\\thead{Params}\\\\\\ [0.5ex] \n",
    "    \\hline\\hline\n",
    "    \\\\thead{W10D10\\\\\\ Residual Model} & %.3f & \\\\thead{%.3f\\\\\\ (%.3f)} & %.3f & %.3f & %.3f \\\\\\\\\n",
    "    \\\\thead{W50D10\\\\\\ Residual Model} & 4.676 & \\\\thead{13.468\\\\\\ (3.370)} & 8.573 & 8.573 & 447K\\\\\\\\\n",
    "    \\\\thead{W10D80\\\\\\ Residual Model} & 5.044 & \\\\thead{18.107\\\\\\ (4.353)} & 7.379 & 7.379 & 143K \\\\\\\\\n",
    "    \\\\thead{W50D80\\\\\\ Residual Model} & 6.777 & \\\\thead{62.783\\\\\\ (100.42)} & 3.911 & 3.911 & 1.5M \\\\\\ [1ex] \n",
    "    \\hline\n",
    "    \\end{tabular}\n",
    "    '''%(\n",
    "        run_assembly[\"ggn_nodp\"], \n",
    "        run_assembly[\"ggn_dp_avg\"], \n",
    "        run_assembly[\"ggn_dp_std\"], \n",
    "        run_assembly[\"ggn_dp_best\"], \n",
    "        run_assembly[\"l2\"], \n",
    "        run_assembly[\"params\"]\n",
    "    )\n",
    ")"
   ]
  }
 ],
 "metadata": {
  "interpreter": {
   "hash": "01f4062601dd4a4e1c257413e21dc0f029d81df683c757731afbeae97886076b"
  },
  "kernelspec": {
   "display_name": "Python 3.8.0 64-bit ('dp_mt': conda)",
   "name": "python3"
  },
  "language_info": {
   "codemirror_mode": {
    "name": "ipython",
    "version": 3
   },
   "file_extension": ".py",
   "mimetype": "text/x-python",
   "name": "python",
   "nbconvert_exporter": "python",
   "pygments_lexer": "ipython3",
   "version": "3.8.0"
  },
  "orig_nbformat": 4
 },
 "nbformat": 4,
 "nbformat_minor": 2
}
